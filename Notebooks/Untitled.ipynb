{
 "cells": [
  {
   "cell_type": "markdown",
   "id": "54093f46-8569-49d6-9149-c08739b6050c",
   "metadata": {},
   "source": [
    "# Julia for Data Analysis"
   ]
  },
  {
   "cell_type": "markdown",
   "id": "0bde3984-378c-408e-8525-a84103d517df",
   "metadata": {},
   "source": [
    "## Types"
   ]
  },
  {
   "cell_type": "code",
   "execution_count": 1,
   "id": "a458365a-acbb-46f2-802b-2620baa45ddd",
   "metadata": {},
   "outputs": [
    {
     "data": {
      "text/plain": [
       "Int64"
      ]
     },
     "execution_count": 1,
     "metadata": {},
     "output_type": "execute_result"
    }
   ],
   "source": [
    "typeof(1)"
   ]
  },
  {
   "cell_type": "code",
   "execution_count": null,
   "id": "d9040d44-9b59-411f-bbf9-06e1537e39a8",
   "metadata": {},
   "outputs": [],
   "source": []
  }
 ],
 "metadata": {
  "kernelspec": {
   "display_name": "Julia 1.9.0-rc1",
   "language": "julia",
   "name": "julia-1.9"
  },
  "language_info": {
   "file_extension": ".jl",
   "mimetype": "application/julia",
   "name": "julia",
   "version": "1.9.0"
  }
 },
 "nbformat": 4,
 "nbformat_minor": 5
}
